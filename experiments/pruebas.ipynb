{
 "cells": [
  {
   "cell_type": "code",
   "execution_count": 18,
   "id": "cf1743f8",
   "metadata": {},
   "outputs": [],
   "source": [
    "import pandas as pd"
   ]
  },
  {
   "cell_type": "code",
   "execution_count": 19,
   "id": "51c2c719",
   "metadata": {},
   "outputs": [],
   "source": [
    "df = pd.read_csv('../data/csv/train.csv', sep=';')"
   ]
  },
  {
   "cell_type": "code",
   "execution_count": 20,
   "id": "1dc6187d",
   "metadata": {},
   "outputs": [
    {
     "data": {
      "text/html": [
       "<div>\n",
       "<style scoped>\n",
       "    .dataframe tbody tr th:only-of-type {\n",
       "        vertical-align: middle;\n",
       "    }\n",
       "\n",
       "    .dataframe tbody tr th {\n",
       "        vertical-align: top;\n",
       "    }\n",
       "\n",
       "    .dataframe thead th {\n",
       "        text-align: right;\n",
       "    }\n",
       "</style>\n",
       "<table border=\"1\" class=\"dataframe\">\n",
       "  <thead>\n",
       "    <tr style=\"text-align: right;\">\n",
       "      <th></th>\n",
       "      <th>id</th>\n",
       "      <th>tweet</th>\n",
       "      <th>caption</th>\n",
       "      <th>ner</th>\n",
       "      <th>sa</th>\n",
       "    </tr>\n",
       "  </thead>\n",
       "  <tbody>\n",
       "    <tr>\n",
       "      <th>0</th>\n",
       "      <td>1015799</td>\n",
       "      <td>RT @JayKenMinaj _ : Me outside of where George...</td>\n",
       "      <td>person, who is the girl of the hour, was seen ...</td>\n",
       "      <td>O O O O O O O O B-PER I-PER O O O O O O O O O ...</td>\n",
       "      <td>POSITIVE</td>\n",
       "    </tr>\n",
       "    <tr>\n",
       "      <th>1</th>\n",
       "      <td>1109405</td>\n",
       "      <td>Swan upping : first stop Hermitage Warf , Towe...</td>\n",
       "      <td>the view from the top of the building</td>\n",
       "      <td>O O O O O B-LOC I-LOC O B-LOC I-LOC O B-LOC O ...</td>\n",
       "      <td>POSITIVE</td>\n",
       "    </tr>\n",
       "    <tr>\n",
       "      <th>2</th>\n",
       "      <td>563049</td>\n",
       "      <td>RT @redbullESPORTS : Smash Shiba is stoked for...</td>\n",
       "      <td>the audience applauds as the show begins.</td>\n",
       "      <td>O O O B-OTHER I-OTHER O O O O B-OTHER I-OTHER ...</td>\n",
       "      <td>POSITIVE</td>\n",
       "    </tr>\n",
       "    <tr>\n",
       "      <th>3</th>\n",
       "      <td>418340</td>\n",
       "      <td>Rep . Howard Coble mingling ahead of press con...</td>\n",
       "      <td>a person is standing up</td>\n",
       "      <td>O O B-PER I-PER O O O O O O O O O O O O O O O O O</td>\n",
       "      <td>POSITIVE</td>\n",
       "    </tr>\n",
       "    <tr>\n",
       "      <th>4</th>\n",
       "      <td>50168</td>\n",
       "      <td>Psychologists explain why Katie Hopkins is jus...</td>\n",
       "      <td>person is the new face of the singer</td>\n",
       "      <td>O O O B-PER I-PER O O O B-PER I-PER O O O O O ...</td>\n",
       "      <td>NEGATIVE</td>\n",
       "    </tr>\n",
       "  </tbody>\n",
       "</table>\n",
       "</div>"
      ],
      "text/plain": [
       "        id                                              tweet  \\\n",
       "0  1015799  RT @JayKenMinaj _ : Me outside of where George...   \n",
       "1  1109405  Swan upping : first stop Hermitage Warf , Towe...   \n",
       "2   563049  RT @redbullESPORTS : Smash Shiba is stoked for...   \n",
       "3   418340  Rep . Howard Coble mingling ahead of press con...   \n",
       "4    50168  Psychologists explain why Katie Hopkins is jus...   \n",
       "\n",
       "                                             caption  \\\n",
       "0  person, who is the girl of the hour, was seen ...   \n",
       "1              the view from the top of the building   \n",
       "2          the audience applauds as the show begins.   \n",
       "3                            a person is standing up   \n",
       "4               person is the new face of the singer   \n",
       "\n",
       "                                                 ner        sa  \n",
       "0  O O O O O O O O B-PER I-PER O O O O O O O O O ...  POSITIVE  \n",
       "1  O O O O O B-LOC I-LOC O B-LOC I-LOC O B-LOC O ...  POSITIVE  \n",
       "2  O O O B-OTHER I-OTHER O O O O B-OTHER I-OTHER ...  POSITIVE  \n",
       "3  O O B-PER I-PER O O O O O O O O O O O O O O O O O  POSITIVE  \n",
       "4  O O O B-PER I-PER O O O B-PER I-PER O O O O O ...  NEGATIVE  "
      ]
     },
     "execution_count": 20,
     "metadata": {},
     "output_type": "execute_result"
    }
   ],
   "source": [
    "df.head()"
   ]
  }
 ],
 "metadata": {
  "kernelspec": {
   "display_name": "deepEnvironment",
   "language": "python",
   "name": "python3"
  },
  "language_info": {
   "codemirror_mode": {
    "name": "ipython",
    "version": 3
   },
   "file_extension": ".py",
   "mimetype": "text/x-python",
   "name": "python",
   "nbconvert_exporter": "python",
   "pygments_lexer": "ipython3",
   "version": "3.10.12"
  }
 },
 "nbformat": 4,
 "nbformat_minor": 5
}
