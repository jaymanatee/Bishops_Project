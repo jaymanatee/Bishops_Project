{
 "cells": [
  {
   "cell_type": "code",
   "execution_count": 19,
   "id": "d0d2d8a9",
   "metadata": {},
   "outputs": [],
   "source": [
    "from torch.utils.data import Dataset, DataLoader\n",
    "import pandas as pd"
   ]
  },
  {
   "cell_type": "code",
   "execution_count": 41,
   "id": "a5a42b22",
   "metadata": {},
   "outputs": [],
   "source": [
    "class TextCaptionDataset(Dataset):\n",
    "\n",
    "    def __init__(self, text_ner_path, caption_path):\n",
    "        self.tweets = pd.read_csv(text_ner_path, sep=';')\n",
    "        self.tweets = self.tweets[['id', 'tweet']]\n",
    "        self.captions = pd.read_csv(caption_path, sep=';')\n",
    "        self.data = self.tweets.merge(self.captions, left_on='id', right_on='image_name', how='inner')\n",
    "    \n",
    "    def __len__(self):\n",
    "        return len(self.captions)\n",
    "\n",
    "    def __getitem__(self, idx):\n",
    "        item = self.data.iloc[idx]\n",
    "        return item['id'], item['tweet'], item['caption']"
   ]
  },
  {
   "cell_type": "code",
   "execution_count": 42,
   "id": "4e5858e9",
   "metadata": {},
   "outputs": [],
   "source": [
    "data = TextCaptionDataset('../data/csv/text_and_ner_train.csv', '../data/csv/captionsImages.csv')"
   ]
  },
  {
   "cell_type": "code",
   "execution_count": 43,
   "id": "eb76bf04",
   "metadata": {},
   "outputs": [
    {
     "data": {
      "text/plain": [
       "('1015799.jpg',\n",
       " 'RT @JayKenMinaj _ : Me outside of where George Zimmerman got shot at . You know God is so good . http://t.co/Z3neVBQ7vF',\n",
       " 'person, who is the girl of the hour, was seen walking down the sidewalk in a dress')"
      ]
     },
     "execution_count": 43,
     "metadata": {},
     "output_type": "execute_result"
    }
   ],
   "source": [
    "data[0]"
   ]
  }
 ],
 "metadata": {
  "kernelspec": {
   "display_name": "deepEnvironment",
   "language": "python",
   "name": "python3"
  },
  "language_info": {
   "codemirror_mode": {
    "name": "ipython",
    "version": 3
   },
   "file_extension": ".py",
   "mimetype": "text/x-python",
   "name": "python",
   "nbconvert_exporter": "python",
   "pygments_lexer": "ipython3",
   "version": "3.10.12"
  }
 },
 "nbformat": 4,
 "nbformat_minor": 5
}
