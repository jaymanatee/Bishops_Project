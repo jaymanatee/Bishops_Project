{
 "cells": [
  {
   "cell_type": "code",
   "execution_count": 1,
   "metadata": {},
   "outputs": [
    {
     "name": "stderr",
     "output_type": "stream",
     "text": [
      "C:\\Users\\enriq\\AppData\\Local\\Temp\\ipykernel_15520\\1060400134.py:3: DeprecationWarning: 'imghdr' is deprecated and slated for removal in Python 3.13\n",
      "  import imghdr\n"
     ]
    }
   ],
   "source": [
    "import os\n",
    "import torch\n",
    "import imghdr\n",
    "from torch.utils.data import Dataset, DataLoader\n",
    "from PIL import Image\n",
    "from torchvision import transforms"
   ]
  },
  {
   "cell_type": "code",
   "execution_count": 9,
   "metadata": {},
   "outputs": [
    {
     "data": {
      "text/plain": [
       "(8288, 8288)"
      ]
     },
     "execution_count": 9,
     "metadata": {},
     "output_type": "execute_result"
    }
   ],
   "source": [
    "a = os.listdir(\"../data/twitter2015_images/\")\n",
    "len(a)\n",
    "b  = [\n",
    "    img for img in a if img.endswith(\".jpg\") or img.endswith(\".png\")\n",
    "]\n",
    "len(a), len(b)"
   ]
  },
  {
   "cell_type": "code",
   "execution_count": 6,
   "metadata": {},
   "outputs": [],
   "source": [
    "class ImageDataset(Dataset):\n",
    "    def __init__(self, root_dirs):\n",
    "        \"\"\"\n",
    "        Args:\n",
    "            root_dirs (list): Lista de carpetas donde buscar imágenes.\n",
    "        \"\"\"\n",
    "        self.image_paths = []\n",
    "        self.image_names = []\n",
    "        self.error_files = 0\n",
    "        for root_dir in root_dirs:\n",
    "            for file in os.listdir(root_dir):\n",
    "                file_path = os.path.join(root_dir, file)\n",
    "                if file.endswith(\".jpg\") and imghdr.what(file_path) == \"jpeg\":\n",
    "                    self.image_paths.append(file_path)\n",
    "                    self.image_names.append(file)\n",
    "                else:\n",
    "                    self.error_files += 1\n",
    "                    print(self.error_files, end=\"\\r\")\n",
    "\n",
    "        # Transform to tensor and normalize\n",
    "        self.transform = transforms.Compose([\n",
    "            transforms.Resize((256, 256)),\n",
    "            transforms.ToTensor(),\n",
    "            transforms.Normalize(mean=[0, 0, 0], std=[1.0, 1.0, 1.0])\n",
    "        ])\n",
    "\n",
    "\n",
    "    def __len__(self):\n",
    "        return len(self.image_paths)\n",
    "\n",
    "    def __getitem__(self, idx):\n",
    "        img_path = self.image_paths[idx]\n",
    "        img_name = self.image_names[idx]\n",
    "        \n",
    "        image = Image.open(img_path).convert(\"RGB\")\n",
    "        image = self.transform(image)\n",
    "\n",
    "        return img_name, image\n",
    "\n",
    "def load_image_data(batch_size=32, num_workers=0):\n",
    "    \"\"\"\n",
    "    Carga las imágenes de ambas carpetas en DataLoaders.\n",
    "\n",
    "    Args:\n",
    "        batch_size (int): Tamaño del batch.\n",
    "        num_workers (int): Número de hilos para cargar datos.\n",
    "\n",
    "    Returns:\n",
    "        DataLoader con imágenes y nombres.\n",
    "    \"\"\"\n",
    "    root_dirs = root_dirs = [\"../data/twitter2015_images/\", \"../data/twitter2017_images/\"]\n",
    "    dataset = ImageDataset(root_dirs)\n",
    "    \n",
    "    dataloader = DataLoader(dataset, batch_size=batch_size, shuffle=True, num_workers=num_workers)\n",
    "    return dataloader"
   ]
  },
  {
   "cell_type": "code",
   "execution_count": 7,
   "metadata": {},
   "outputs": [
    {
     "name": "stdout",
     "output_type": "stream",
     "text": [
      "<torch.utils.data.dataloader.DataLoader object at 0x000001B45DC1F9D0>\n",
      "('1823300.jpg', '1083202.jpg', '2134355.jpg', '153305.jpg', '502875.jpg', '1943124.jpg', 'O_1911.jpg', '16_05_22_1031.jpg', '16_05_01_517.jpg', '20109.jpg', '9387.jpg', 'O_2698.jpg', '95869.jpg', '701488.jpg', '16_05_28_766.jpg', '128571.jpg', '717807.jpg', 'O_4975.jpg', '16_05_09_205.jpg', 'O_155.jpg', '1404608.jpg', '17_06_15076.jpg', '577417.jpg', '24251.jpg', '71757.jpg', '610581.jpg', '813550.jpg', '1286081.jpg', '14870.jpg', '733633.jpg', '831376.jpg', '64668.jpg')\n",
      "torch.Size([32, 3, 256, 256])\n"
     ]
    }
   ],
   "source": [
    "dataloader = load_image_data()\n",
    "print(dataloader)\n",
    "for img_names, img_tensors in dataloader:\n",
    "    print(img_names)\n",
    "    print(img_tensors.shape)  # Batch de imágenes en forma de tensor\n",
    "    break  # Para mostrar solo un batch"
   ]
  },
  {
   "cell_type": "code",
   "execution_count": 8,
   "metadata": {},
   "outputs": [
    {
     "name": "stdout",
     "output_type": "stream",
     "text": [
      "1203 error files\n"
     ]
    }
   ],
   "source": [
    "print(dataloader.dataset.error_files, \"error files\")"
   ]
  },
  {
   "cell_type": "code",
   "execution_count": 2,
   "metadata": {},
   "outputs": [
    {
     "ename": "NameError",
     "evalue": "name 'Image' is not defined",
     "output_type": "error",
     "traceback": [
      "\u001b[1;31m---------------------------------------------------------------------------\u001b[0m",
      "\u001b[1;31mNameError\u001b[0m                                 Traceback (most recent call last)",
      "Cell \u001b[1;32mIn[2], line 2\u001b[0m\n\u001b[0;32m      1\u001b[0m \u001b[38;5;66;03m#Image.open('../data/twitter2017_images/O_3112.jpg')\u001b[39;00m\n\u001b[1;32m----> 2\u001b[0m \u001b[43mImage\u001b[49m\u001b[38;5;241m.\u001b[39mopen(\u001b[38;5;124m'\u001b[39m\u001b[38;5;124m../data/twitter2017_images/O_2839.jpg\u001b[39m\u001b[38;5;124m'\u001b[39m)\n",
      "\u001b[1;31mNameError\u001b[0m: name 'Image' is not defined"
     ]
    }
   ],
   "source": [
    "#Image.open('../data/twitter2017_images/O_3112.jpg')\n",
    "Image.open('../data/twitter2017_images/O_2839.jpg')"
   ]
  }
 ],
 "metadata": {
  "kernelspec": {
   "display_name": "base",
   "language": "python",
   "name": "python3"
  },
  "language_info": {
   "codemirror_mode": {
    "name": "ipython",
    "version": 3
   },
   "file_extension": ".py",
   "mimetype": "text/x-python",
   "name": "python",
   "nbconvert_exporter": "python",
   "pygments_lexer": "ipython3",
   "version": "3.11.7"
  }
 },
 "nbformat": 4,
 "nbformat_minor": 2
}
