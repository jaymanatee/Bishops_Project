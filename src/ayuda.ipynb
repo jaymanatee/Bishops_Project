{
 "cells": [
  {
   "cell_type": "code",
   "execution_count": 1,
   "id": "d0b2e36b",
   "metadata": {},
   "outputs": [],
   "source": [
    "from data import load_data\n",
    "import warnings\n",
    "\n",
    "warnings.filterwarnings(\"ignore\", category=FutureWarning)"
   ]
  },
  {
   "cell_type": "code",
   "execution_count": null,
   "id": "4989d20a",
   "metadata": {},
   "outputs": [
    {
     "ename": "NameError",
     "evalue": "name 'BertTokenizer' is not defined",
     "output_type": "error",
     "traceback": [
      "\u001b[0;31m---------------------------------------------------------------------------\u001b[0m",
      "\u001b[0;31mNameError\u001b[0m                                 Traceback (most recent call last)",
      "Cell \u001b[0;32mIn[2], line 1\u001b[0m\n\u001b[0;32m----> 1\u001b[0m train_dataloader, val_dataloader, test_dataloader \u001b[38;5;241m=\u001b[39m \u001b[43mload_data\u001b[49m\u001b[43m(\u001b[49m\u001b[38;5;124;43m\"\u001b[39;49m\u001b[38;5;124;43m../data/csv/\u001b[39;49m\u001b[38;5;124;43m\"\u001b[39;49m\u001b[43m)\u001b[49m\n",
      "File \u001b[0;32m~/Deep/Bishops_Project/src/data.py:97\u001b[0m, in \u001b[0;36mload_data\u001b[0;34m(path, batch_size)\u001b[0m\n\u001b[1;32m     84\u001b[0m \u001b[38;5;250m\u001b[39m\u001b[38;5;124;03m\"\"\"\u001b[39;00m\n\u001b[1;32m     85\u001b[0m \u001b[38;5;124;03mLoads the train, validation, and test data from the given CSV files and returns\u001b[39;00m\n\u001b[1;32m     86\u001b[0m \u001b[38;5;124;03mthe respective DataLoaders.\u001b[39;00m\n\u001b[0;32m   (...)\u001b[0m\n\u001b[1;32m     93\u001b[0m \u001b[38;5;124;03m    tuple: A tuple containing the train, validation, and test DataLoaders.\u001b[39;00m\n\u001b[1;32m     94\u001b[0m \u001b[38;5;124;03m\"\"\"\u001b[39;00m\n\u001b[1;32m     96\u001b[0m \u001b[38;5;66;03m# Initialize the BERT tokenizer\u001b[39;00m\n\u001b[0;32m---> 97\u001b[0m tokenizer \u001b[38;5;241m=\u001b[39m \u001b[43mBertTokenizer\u001b[49m\u001b[38;5;241m.\u001b[39mfrom_pretrained(\u001b[38;5;124m'\u001b[39m\u001b[38;5;124mbert-base-uncased\u001b[39m\u001b[38;5;124m'\u001b[39m)\n\u001b[1;32m     99\u001b[0m \u001b[38;5;66;03m# Create datasets for train, validation, and test sets\u001b[39;00m\n\u001b[1;32m    100\u001b[0m train_dataset \u001b[38;5;241m=\u001b[39m TweetDataset(os\u001b[38;5;241m.\u001b[39mpath\u001b[38;5;241m.\u001b[39mjoin(path, \u001b[38;5;124m\"\u001b[39m\u001b[38;5;124mtrain.csv\u001b[39m\u001b[38;5;124m\"\u001b[39m), tokenizer)\n",
      "\u001b[0;31mNameError\u001b[0m: name 'BertTokenizer' is not defined"
     ]
    }
   ],
   "source": [
    "train_dataloader, val_dataloader, test_dataloader = load_data(\"../data/csv/\")"
   ]
  },
  {
   "cell_type": "code",
   "execution_count": 94,
   "id": "fd5864fa",
   "metadata": {},
   "outputs": [
    {
     "name": "stdout",
     "output_type": "stream",
     "text": [
      "torch.Size([49, 64])\n",
      "torch.Size([0, 64])\n",
      "torch.Size([49, 64])\n"
     ]
    }
   ],
   "source": [
    "for item in train_dataloader:\n",
    "    print(item[1].shape)\n",
    "    print(item[2].shape)\n",
    "    print(item[3].shape)\n",
    "    break\n"
   ]
  }
 ],
 "metadata": {
  "kernelspec": {
   "display_name": "deepEnvironment",
   "language": "python",
   "name": "python3"
  },
  "language_info": {
   "codemirror_mode": {
    "name": "ipython",
    "version": 3
   },
   "file_extension": ".py",
   "mimetype": "text/x-python",
   "name": "python",
   "nbconvert_exporter": "python",
   "pygments_lexer": "ipython3",
   "version": "3.10.12"
  }
 },
 "nbformat": 4,
 "nbformat_minor": 5
}
