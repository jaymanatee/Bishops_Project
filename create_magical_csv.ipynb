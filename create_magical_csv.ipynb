{
 "cells": [
  {
   "cell_type": "markdown",
   "id": "4ff9cced",
   "metadata": {},
   "source": [
    "### CREATE TEXT+NER CSV "
   ]
  },
  {
   "cell_type": "code",
   "execution_count": 2,
   "id": "0f9ddeda",
   "metadata": {},
   "outputs": [],
   "source": [
    "import pandas as pd"
   ]
  },
  {
   "cell_type": "code",
   "execution_count": 3,
   "id": "03c5ce69",
   "metadata": {},
   "outputs": [],
   "source": [
    "path = \"data/twitter2015/train.txt\""
   ]
  },
  {
   "cell_type": "code",
   "execution_count": 20,
   "id": "b5980704",
   "metadata": {},
   "outputs": [],
   "source": [
    "df = pd.DataFrame(columns=['id', 'tweet', 'ner'])\n",
    "\n",
    "id = ''\n",
    "tweet = ''\n",
    "ner = ''\n",
    "\n",
    "with open(path, 'r', encoding='utf-8') as file:\n",
    "    for line in file:\n",
    "        if line.strip() != '':\n",
    "            line = line.strip()\n",
    "            if line[:5] == \"IMGID\":\n",
    "                if id:\n",
    "                    tweet = tweet.rstrip()\n",
    "                    ner = ner.rstrip()\n",
    "                    df.loc[len(df)] = [id, tweet, ner]\n",
    "                id = line[6:]\n",
    "                tweet = ''\n",
    "                ner = ''\n",
    "            else:\n",
    "                tokens = line.split()\n",
    "                if tokens[0] == ';':\n",
    "                    tokens[0] = ','\n",
    "                if tokens[1] == ';':\n",
    "                    tokens[1] = ','\n",
    "                tweet += f\"{tokens[0]} \"\n",
    "                ner += f\" {tokens[1]} \""
   ]
  },
  {
   "cell_type": "code",
   "execution_count": null,
   "id": "24b268af",
   "metadata": {},
   "outputs": [
    {
     "data": {
      "text/plain": [
       "'RT @redbullESPORTS : Smash Shiba is stoked for #NWM7 Melee Grand Finals . http://t.co/hmTEF9q0gz'"
      ]
     },
     "execution_count": 21,
     "metadata": {},
     "output_type": "execute_result"
    }
   ],
   "source": [
    "df.to_csv(\"text_and_ner.csv\", sep=\";\")"
   ]
  }
 ],
 "metadata": {
  "kernelspec": {
   "display_name": "deepEnvironment",
   "language": "python",
   "name": "python3"
  },
  "language_info": {
   "codemirror_mode": {
    "name": "ipython",
    "version": 3
   },
   "file_extension": ".py",
   "mimetype": "text/x-python",
   "name": "python",
   "nbconvert_exporter": "python",
   "pygments_lexer": "ipython3",
   "version": "3.10.12"
  }
 },
 "nbformat": 4,
 "nbformat_minor": 5
}
